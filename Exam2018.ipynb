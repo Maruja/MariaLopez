{
 "cells": [
  {
   "cell_type": "markdown",
   "metadata": {},
   "source": [
    "#  Introduction to Programming \n",
    "## Exam 2017/2018\n",
    "### 2018/01/24\n",
    "Time allowed : 1 hour 20 mins　\n",
    "<br>試験時間 : 1時間20分\n",
    "\n",
    "Total marks : 50　\n",
    "<br>試験点数 : 50点\n",
    "\n",
    "Complete all questions.　\n",
    "<br>ずべての問題を解けなさい"
   ]
  },
  {
   "cell_type": "markdown",
   "metadata": {
    "collapsed": true
   },
   "source": [
    "### Question 1\n",
    "Evaluate the following expressions:　\n",
    "<br>以下の三つの計算式の解を求める。\n",
    "\n",
    "a) &nbsp; $3 \\times 4^{2}$ &emsp; __1 mark__\n",
    "\n",
    "b) &nbsp; $\\cos(2)$ &emsp; __1 mark__\n",
    "\n",
    "c) &nbsp; $\\sin(\\pi)$ &emsp; __1 mark__"
   ]
  },
  {
   "cell_type": "code",
   "execution_count": 7,
   "metadata": {},
   "outputs": [
    {
     "name": "stdout",
     "output_type": "stream",
     "text": [
      "48\n",
      "-0.416146836547\n",
      "1.22464679915e-16\n"
     ]
    }
   ],
   "source": [
    "import numpy as np\n",
    "print(3*4**2)\n",
    "print(np.cos(2))\n",
    "print(np.sin(np.pi))\n"
   ]
  },
  {
   "cell_type": "markdown",
   "metadata": {
    "collapsed": true
   },
   "source": [
    "### Question 2\n",
    "a) Print the `type` of the variable, `A`.　\n",
    "<br>変数`A`の型を表示しなさい。 \n",
    "<br>__1 mark__\n",
    "\n",
    "b) Change the `type` of variable `A` to a string \n",
    "<br>変数`A`の型を文字列型`string`に変形しなさい。 \n",
    "<br>__2 marks__"
   ]
  },
  {
   "cell_type": "code",
   "execution_count": 11,
   "metadata": {},
   "outputs": [
    {
     "name": "stdout",
     "output_type": "stream",
     "text": [
      "<class 'float'>\n",
      "<class 'str'>\n"
     ]
    }
   ],
   "source": [
    "A = 4.3\n",
    "print(type(A))\n",
    "A = str(A)\n",
    "print(type(A))"
   ]
  },
  {
   "cell_type": "markdown",
   "metadata": {},
   "source": [
    "### Question 3\n",
    "a) Write a function called `cylinder_vol` that returns the volume of a cylinder.　\n",
    "<br>The function should take the radius of the cylinder base and the cylinder height as inputs. (Assume the units are the same for each input.)\n",
    "<br>Include a documentation string (docstring) to say what the function does. \n",
    "\n",
    "`cylinder_vol`と呼ぶ、円柱の容積を出力にする関数を作りなさい。 \n",
    "<br>ただし、関数に入力する引数は、円柱の円の半径`radius`と高さ`height`にすること（radiusとheightの物理単位が同じと仮定する）。 \n",
    "<br>関数の前に、この関数の内容を表すコードの注釈文(docstring)を付けること。 \n",
    "<br>__2 marks__\n",
    "\n",
    "<br>\n",
    "b) Make the radius a default argument equal to 4.　\n",
    "<br>関数の引数の円の半径`radius`のデフォルト値を4にしなさい。 \n",
    "<br>__1 mark__\n",
    "\n",
    "<br>\n",
    "c) Force the default argument radius to be entered as a named argument.　\n",
    "<br>関数の引数の円の半径`radius`を名前付き引数にしなさい \n",
    "<br>__1 mark__"
   ]
  },
  {
   "cell_type": "code",
   "execution_count": 19,
   "metadata": {},
   "outputs": [
    {
     "name": "stdout",
     "output_type": "stream",
     "text": [
      "radius: 12\n",
      "heigh: 14\n"
     ]
    },
    {
     "data": {
      "text/plain": [
       "6333.45"
      ]
     },
     "execution_count": 19,
     "metadata": {},
     "output_type": "execute_result"
    }
   ],
   "source": [
    "#this function recieves the radius of a  cylinder and the heigh and returns the volume\n",
    "def cylinder_vol(r,h):\n",
    "    A = np.pi*(r**2)\n",
    "    return round(A*h,2)\n",
    "\n",
    "rad = input(\"radius: \")\n",
    "heigh = input(\"heigh: \")\n",
    "\n",
    "cylinder_vol(r=int(rad),h=int(heigh))"
   ]
  },
  {
   "cell_type": "markdown",
   "metadata": {
    "collapsed": true
   },
   "source": [
    "### Question 4\n",
    "\n",
    "a) Write a function called `list_cos`:　\n",
    "<br>`list_cos`と呼ぶ関数を作りなさい:\n",
    "\n",
    "<br>\n",
    "- input arguments : three numerical values \n",
    "- returns : the cosine of the three input values as a list\n",
    "- include a documentation string (docstring)\n",
    "\n",
    "<br>\n",
    "- 引数：入力する引数は三つある、各引数は数字である。　\n",
    "- 出力：三つの数字の余弦(cos)を計算し、三つの数字を一つのリスト型になる　\n",
    "- 関数の前に、この関数の内容を表すコードの注釈文(docstring)を付けること。\n",
    "\n",
    "<br>\n",
    "Show your function works using the input arguments 1, 2.5 and 5　\n",
    "<br>入力を1, 2.5 and 5にして、関数を使って、関数が結果を表示しなさい。 \n",
    "<br>__3 marks__\n",
    "\n",
    "\n"
   ]
  },
  {
   "cell_type": "code",
   "execution_count": 21,
   "metadata": {},
   "outputs": [
    {
     "name": "stdout",
     "output_type": "stream",
     "text": [
      "[0.54030230586813977, -0.8011436155469337, 0.28366218546322625]\n"
     ]
    }
   ],
   "source": [
    "#this function recieves 3 numerical values and returns a list of the cos of each of the values\n",
    "def list_cos(a,b,c):\n",
    "    return [np.cos(a),np.cos(b),np.cos(c)]\n",
    "\n",
    "print(list_cos(1,2.5,5))"
   ]
  },
  {
   "cell_type": "markdown",
   "metadata": {},
   "source": [
    "<br>\n",
    "b) Write a function called `sort_data`:　\n",
    "<br>sort_dataと呼ぶ関数を作りなさい:\n",
    "\n",
    "<br>\n",
    "- input arguments : three numerical values and the function `list_cos` \n",
    "- returns : the output of the function `list_cos` sorted in ascending order\n",
    "- include a documentation string (docstring)\n",
    "\n",
    "<br>\n",
    "- 引数：入力する引数は四つある、`list_cos`の三つの数字と関数`list_cos`\n",
    "- 出力：`list_cos`で計算された三つの数字の余弦(cos)を昇順ソートになる；出力はリスト型　\n",
    "- 関数の前に、この関数の内容を表すコードの注釈文(docstring)を付けること。\n",
    "\n",
    "<br>\n",
    "Show your function works using the input arguments 1, 2.5 and 5　\n",
    "<br>入力を1, 2.5 and 5にして、関数を使って、関数が結果を表示しなさい。 \n",
    "<br>__5 marks__\n",
    "\n",
    "\n"
   ]
  },
  {
   "cell_type": "code",
   "execution_count": 27,
   "metadata": {},
   "outputs": [
    {
     "name": "stdout",
     "output_type": "stream",
     "text": [
      "[-0.8011436155469337, 0.28366218546322625, 0.54030230586813977]\n"
     ]
    }
   ],
   "source": [
    "#this function recieves 3 values and a function and retrns the return value of that function in ascending order\n",
    "def sort_data(a,b,c,f):\n",
    "    vect=[]\n",
    "    vect = f(a,b,c)\n",
    "    return sorted(vect)\n",
    "\n",
    "print(sort_data(1,2.5,5,list_cos))"
   ]
  },
  {
   "cell_type": "markdown",
   "metadata": {},
   "source": [
    "\n",
    "c) Search online to find a `numpy` function that *returns the cumulative product of array elements*.\n",
    "<br>Find the cumulative product of the array generated as the answer to part b.　\n",
    "\n",
    "インターネット上に調べて、`numpy`にある累積掛け算(returns the cumulative product of array elements)の機能を持つ関数を探しなさい。 \n",
    "<br>その関数を使って、問題bの結果の累積掛け算を求めなさい。 \n",
    "<br>__2 marks__\n",
    "\n",
    "\n",
    ">*The output array should be a 1D array with three elements, where:　\n",
    "<br>出力は一次元の三つの要素を持つ配列`array`である。以下の式を満足する*:\n",
    "\n",
    "        output[n] = input[n] * input[n-1]\n",
    "        \n",
    "        output[0] = input[0]\n"
   ]
  },
  {
   "cell_type": "code",
   "execution_count": 28,
   "metadata": {},
   "outputs": [
    {
     "name": "stdout",
     "output_type": "stream",
     "text": [
      "[-0.80114362 -0.22725415 -0.12278594]\n"
     ]
    }
   ],
   "source": [
    "v = []\n",
    "v = sort_data(1,2.5,5,list_cos)\n",
    "print(np.cumprod(v))"
   ]
  },
  {
   "cell_type": "markdown",
   "metadata": {
    "collapsed": true
   },
   "source": [
    "### Question 5\n",
    "a) Plot a scatter plot of x against y.　\n",
    "<br>xを横軸、yを縦軸にする散布図 (Scatter plot)を表示しなさい。 \n",
    "\n",
    "Use blue triangles as the markers.　\n",
    "<br>ただし、点のマーカーは青い三角形である \n",
    "<br>__4 marks__\n",
    "\n",
    "\n",
    "\n",
    "\n",
    "\n",
    "\n"
   ]
  },
  {
   "cell_type": "code",
   "execution_count": 40,
   "metadata": {},
   "outputs": [
    {
     "ename": "TypeError",
     "evalue": "'list' object is not callable",
     "output_type": "error",
     "traceback": [
      "\u001b[1;31m---------------------------------------------------------------------------\u001b[0m",
      "\u001b[1;31mKeyError\u001b[0m                                  Traceback (most recent call last)",
      "\u001b[1;32mC:\\ProgramData\\Anaconda3\\lib\\site-packages\\matplotlib\\colors.py\u001b[0m in \u001b[0;36mto_rgba\u001b[1;34m(c, alpha)\u001b[0m\n\u001b[0;32m    140\u001b[0m     \u001b[1;32mtry\u001b[0m\u001b[1;33m:\u001b[0m\u001b[1;33m\u001b[0m\u001b[0m\n\u001b[1;32m--> 141\u001b[1;33m         \u001b[0mrgba\u001b[0m \u001b[1;33m=\u001b[0m \u001b[0m_colors_full_map\u001b[0m\u001b[1;33m.\u001b[0m\u001b[0mcache\u001b[0m\u001b[1;33m[\u001b[0m\u001b[0mc\u001b[0m\u001b[1;33m,\u001b[0m \u001b[0malpha\u001b[0m\u001b[1;33m]\u001b[0m\u001b[1;33m\u001b[0m\u001b[0m\n\u001b[0m\u001b[0;32m    142\u001b[0m     \u001b[1;32mexcept\u001b[0m \u001b[1;33m(\u001b[0m\u001b[0mKeyError\u001b[0m\u001b[1;33m,\u001b[0m \u001b[0mTypeError\u001b[0m\u001b[1;33m)\u001b[0m\u001b[1;33m:\u001b[0m  \u001b[1;31m# Not in cache, or unhashable.\u001b[0m\u001b[1;33m\u001b[0m\u001b[0m\n",
      "\u001b[1;31mKeyError\u001b[0m: ('k', None)",
      "\nDuring handling of the above exception, another exception occurred:\n",
      "\u001b[1;31mTypeError\u001b[0m                                 Traceback (most recent call last)",
      "\u001b[1;32m<ipython-input-40-f0854ca018ef>\u001b[0m in \u001b[0;36m<module>\u001b[1;34m()\u001b[0m\n\u001b[0;32m      1\u001b[0m \u001b[1;33m\u001b[0m\u001b[0m\n\u001b[0;32m      2\u001b[0m \u001b[1;31m# Plotting and animation\u001b[0m\u001b[1;33m\u001b[0m\u001b[1;33m\u001b[0m\u001b[0m\n\u001b[1;32m----> 3\u001b[1;33m \u001b[1;32mimport\u001b[0m \u001b[0mmatplotlib\u001b[0m\u001b[1;33m\u001b[0m\u001b[0m\n\u001b[0m\u001b[0;32m      4\u001b[0m \u001b[1;32mfrom\u001b[0m \u001b[0mmatplotlib\u001b[0m \u001b[1;32mimport\u001b[0m \u001b[0manimation\u001b[0m\u001b[1;33m,\u001b[0m \u001b[0mrc\u001b[0m\u001b[1;33m\u001b[0m\u001b[0m\n\u001b[0;32m      5\u001b[0m \u001b[1;32mimport\u001b[0m \u001b[0mmatplotlib\u001b[0m\u001b[1;33m.\u001b[0m\u001b[0mpyplot\u001b[0m \u001b[1;32mas\u001b[0m \u001b[0mplt\u001b[0m\u001b[1;33m\u001b[0m\u001b[0m\n",
      "\u001b[1;32mC:\\ProgramData\\Anaconda3\\lib\\site-packages\\matplotlib\\__init__.py\u001b[0m in \u001b[0;36m<module>\u001b[1;34m()\u001b[0m\n\u001b[0;32m   1180\u001b[0m \u001b[1;33m\u001b[0m\u001b[0m\n\u001b[0;32m   1181\u001b[0m \u001b[1;31m# this is the instance used by the matplotlib classes\u001b[0m\u001b[1;33m\u001b[0m\u001b[1;33m\u001b[0m\u001b[0m\n\u001b[1;32m-> 1182\u001b[1;33m \u001b[0mrcParams\u001b[0m \u001b[1;33m=\u001b[0m \u001b[0mrc_params\u001b[0m\u001b[1;33m(\u001b[0m\u001b[1;33m)\u001b[0m\u001b[1;33m\u001b[0m\u001b[0m\n\u001b[0m\u001b[0;32m   1183\u001b[0m \u001b[1;33m\u001b[0m\u001b[0m\n\u001b[0;32m   1184\u001b[0m \u001b[1;32mif\u001b[0m \u001b[0mrcParams\u001b[0m\u001b[1;33m[\u001b[0m\u001b[1;34m'examples.directory'\u001b[0m\u001b[1;33m]\u001b[0m\u001b[1;33m:\u001b[0m\u001b[1;33m\u001b[0m\u001b[0m\n",
      "\u001b[1;32mC:\\ProgramData\\Anaconda3\\lib\\site-packages\\matplotlib\\__init__.py\u001b[0m in \u001b[0;36mrc_params\u001b[1;34m(fail_on_error)\u001b[0m\n\u001b[0;32m   1023\u001b[0m         \u001b[1;32mreturn\u001b[0m \u001b[0mret\u001b[0m\u001b[1;33m\u001b[0m\u001b[0m\n\u001b[0;32m   1024\u001b[0m \u001b[1;33m\u001b[0m\u001b[0m\n\u001b[1;32m-> 1025\u001b[1;33m     \u001b[1;32mreturn\u001b[0m \u001b[0mrc_params_from_file\u001b[0m\u001b[1;33m(\u001b[0m\u001b[0mfname\u001b[0m\u001b[1;33m,\u001b[0m \u001b[0mfail_on_error\u001b[0m\u001b[1;33m)\u001b[0m\u001b[1;33m\u001b[0m\u001b[0m\n\u001b[0m\u001b[0;32m   1026\u001b[0m \u001b[1;33m\u001b[0m\u001b[0m\n\u001b[0;32m   1027\u001b[0m \u001b[1;33m\u001b[0m\u001b[0m\n",
      "\u001b[1;32mC:\\ProgramData\\Anaconda3\\lib\\site-packages\\matplotlib\\__init__.py\u001b[0m in \u001b[0;36mrc_params_from_file\u001b[1;34m(fname, fail_on_error, use_default_template)\u001b[0m\n\u001b[0;32m   1155\u001b[0m \u001b[1;33m\u001b[0m\u001b[0m\n\u001b[0;32m   1156\u001b[0m     \u001b[0miter_params\u001b[0m \u001b[1;33m=\u001b[0m \u001b[0msix\u001b[0m\u001b[1;33m.\u001b[0m\u001b[0miteritems\u001b[0m\u001b[1;33m(\u001b[0m\u001b[0mdefaultParams\u001b[0m\u001b[1;33m)\u001b[0m\u001b[1;33m\u001b[0m\u001b[0m\n\u001b[1;32m-> 1157\u001b[1;33m     config = RcParams([(key, default) for key, (default, _) in iter_params\n\u001b[0m\u001b[0;32m   1158\u001b[0m                                       if key not in _all_deprecated])\n\u001b[0;32m   1159\u001b[0m     \u001b[0mconfig\u001b[0m\u001b[1;33m.\u001b[0m\u001b[0mupdate\u001b[0m\u001b[1;33m(\u001b[0m\u001b[0mconfig_from_file\u001b[0m\u001b[1;33m)\u001b[0m\u001b[1;33m\u001b[0m\u001b[0m\n",
      "\u001b[1;32mC:\\ProgramData\\Anaconda3\\lib\\site-packages\\matplotlib\\__init__.py\u001b[0m in \u001b[0;36m__init__\u001b[1;34m(self, *args, **kwargs)\u001b[0m\n\u001b[0;32m    905\u001b[0m     \u001b[1;32mdef\u001b[0m \u001b[0m__init__\u001b[0m\u001b[1;33m(\u001b[0m\u001b[0mself\u001b[0m\u001b[1;33m,\u001b[0m \u001b[1;33m*\u001b[0m\u001b[0margs\u001b[0m\u001b[1;33m,\u001b[0m \u001b[1;33m**\u001b[0m\u001b[0mkwargs\u001b[0m\u001b[1;33m)\u001b[0m\u001b[1;33m:\u001b[0m\u001b[1;33m\u001b[0m\u001b[0m\n\u001b[0;32m    906\u001b[0m         \u001b[1;32mfor\u001b[0m \u001b[0mk\u001b[0m\u001b[1;33m,\u001b[0m \u001b[0mv\u001b[0m \u001b[1;32min\u001b[0m \u001b[0msix\u001b[0m\u001b[1;33m.\u001b[0m\u001b[0miteritems\u001b[0m\u001b[1;33m(\u001b[0m\u001b[0mdict\u001b[0m\u001b[1;33m(\u001b[0m\u001b[1;33m*\u001b[0m\u001b[0margs\u001b[0m\u001b[1;33m,\u001b[0m \u001b[1;33m**\u001b[0m\u001b[0mkwargs\u001b[0m\u001b[1;33m)\u001b[0m\u001b[1;33m)\u001b[0m\u001b[1;33m:\u001b[0m\u001b[1;33m\u001b[0m\u001b[0m\n\u001b[1;32m--> 907\u001b[1;33m             \u001b[0mself\u001b[0m\u001b[1;33m[\u001b[0m\u001b[0mk\u001b[0m\u001b[1;33m]\u001b[0m \u001b[1;33m=\u001b[0m \u001b[0mv\u001b[0m\u001b[1;33m\u001b[0m\u001b[0m\n\u001b[0m\u001b[0;32m    908\u001b[0m \u001b[1;33m\u001b[0m\u001b[0m\n\u001b[0;32m    909\u001b[0m     \u001b[1;32mdef\u001b[0m \u001b[0m__setitem__\u001b[0m\u001b[1;33m(\u001b[0m\u001b[0mself\u001b[0m\u001b[1;33m,\u001b[0m \u001b[0mkey\u001b[0m\u001b[1;33m,\u001b[0m \u001b[0mval\u001b[0m\u001b[1;33m)\u001b[0m\u001b[1;33m:\u001b[0m\u001b[1;33m\u001b[0m\u001b[0m\n",
      "\u001b[1;32mC:\\ProgramData\\Anaconda3\\lib\\site-packages\\matplotlib\\__init__.py\u001b[0m in \u001b[0;36m__setitem__\u001b[1;34m(self, key, val)\u001b[0m\n\u001b[0;32m    924\u001b[0m                 \u001b[1;32mreturn\u001b[0m\u001b[1;33m\u001b[0m\u001b[0m\n\u001b[0;32m    925\u001b[0m             \u001b[1;32mtry\u001b[0m\u001b[1;33m:\u001b[0m\u001b[1;33m\u001b[0m\u001b[0m\n\u001b[1;32m--> 926\u001b[1;33m                 \u001b[0mcval\u001b[0m \u001b[1;33m=\u001b[0m \u001b[0mself\u001b[0m\u001b[1;33m.\u001b[0m\u001b[0mvalidate\u001b[0m\u001b[1;33m[\u001b[0m\u001b[0mkey\u001b[0m\u001b[1;33m]\u001b[0m\u001b[1;33m(\u001b[0m\u001b[0mval\u001b[0m\u001b[1;33m)\u001b[0m\u001b[1;33m\u001b[0m\u001b[0m\n\u001b[0m\u001b[0;32m    927\u001b[0m             \u001b[1;32mexcept\u001b[0m \u001b[0mValueError\u001b[0m \u001b[1;32mas\u001b[0m \u001b[0mve\u001b[0m\u001b[1;33m:\u001b[0m\u001b[1;33m\u001b[0m\u001b[0m\n\u001b[0;32m    928\u001b[0m                 \u001b[1;32mraise\u001b[0m \u001b[0mValueError\u001b[0m\u001b[1;33m(\u001b[0m\u001b[1;34m\"Key %s: %s\"\u001b[0m \u001b[1;33m%\u001b[0m \u001b[1;33m(\u001b[0m\u001b[0mkey\u001b[0m\u001b[1;33m,\u001b[0m \u001b[0mstr\u001b[0m\u001b[1;33m(\u001b[0m\u001b[0mve\u001b[0m\u001b[1;33m)\u001b[0m\u001b[1;33m)\u001b[0m\u001b[1;33m)\u001b[0m\u001b[1;33m\u001b[0m\u001b[0m\n",
      "\u001b[1;32mC:\\ProgramData\\Anaconda3\\lib\\site-packages\\matplotlib\\rcsetup.py\u001b[0m in \u001b[0;36mvalidate_color\u001b[1;34m(s)\u001b[0m\n\u001b[0;32m    387\u001b[0m                 \u001b[1;32mreturn\u001b[0m \u001b[0mstmp\u001b[0m\u001b[1;33m\u001b[0m\u001b[0m\n\u001b[0;32m    388\u001b[0m \u001b[1;33m\u001b[0m\u001b[0m\n\u001b[1;32m--> 389\u001b[1;33m     \u001b[1;32mif\u001b[0m \u001b[0mis_color_like\u001b[0m\u001b[1;33m(\u001b[0m\u001b[0ms\u001b[0m\u001b[1;33m)\u001b[0m\u001b[1;33m:\u001b[0m\u001b[1;33m\u001b[0m\u001b[0m\n\u001b[0m\u001b[0;32m    390\u001b[0m         \u001b[1;32mreturn\u001b[0m \u001b[0ms\u001b[0m\u001b[1;33m\u001b[0m\u001b[0m\n\u001b[0;32m    391\u001b[0m \u001b[1;33m\u001b[0m\u001b[0m\n",
      "\u001b[1;32mC:\\ProgramData\\Anaconda3\\lib\\site-packages\\matplotlib\\colors.py\u001b[0m in \u001b[0;36mis_color_like\u001b[1;34m(c)\u001b[0m\n\u001b[0;32m    119\u001b[0m         \u001b[1;32mreturn\u001b[0m \u001b[1;32mTrue\u001b[0m\u001b[1;33m\u001b[0m\u001b[0m\n\u001b[0;32m    120\u001b[0m     \u001b[1;32mtry\u001b[0m\u001b[1;33m:\u001b[0m\u001b[1;33m\u001b[0m\u001b[0m\n\u001b[1;32m--> 121\u001b[1;33m         \u001b[0mto_rgba\u001b[0m\u001b[1;33m(\u001b[0m\u001b[0mc\u001b[0m\u001b[1;33m)\u001b[0m\u001b[1;33m\u001b[0m\u001b[0m\n\u001b[0m\u001b[0;32m    122\u001b[0m     \u001b[1;32mexcept\u001b[0m \u001b[0mValueError\u001b[0m\u001b[1;33m:\u001b[0m\u001b[1;33m\u001b[0m\u001b[0m\n\u001b[0;32m    123\u001b[0m         \u001b[1;32mreturn\u001b[0m \u001b[1;32mFalse\u001b[0m\u001b[1;33m\u001b[0m\u001b[0m\n",
      "\u001b[1;32mC:\\ProgramData\\Anaconda3\\lib\\site-packages\\matplotlib\\colors.py\u001b[0m in \u001b[0;36mto_rgba\u001b[1;34m(c, alpha)\u001b[0m\n\u001b[0;32m    141\u001b[0m         \u001b[0mrgba\u001b[0m \u001b[1;33m=\u001b[0m \u001b[0m_colors_full_map\u001b[0m\u001b[1;33m.\u001b[0m\u001b[0mcache\u001b[0m\u001b[1;33m[\u001b[0m\u001b[0mc\u001b[0m\u001b[1;33m,\u001b[0m \u001b[0malpha\u001b[0m\u001b[1;33m]\u001b[0m\u001b[1;33m\u001b[0m\u001b[0m\n\u001b[0;32m    142\u001b[0m     \u001b[1;32mexcept\u001b[0m \u001b[1;33m(\u001b[0m\u001b[0mKeyError\u001b[0m\u001b[1;33m,\u001b[0m \u001b[0mTypeError\u001b[0m\u001b[1;33m)\u001b[0m\u001b[1;33m:\u001b[0m  \u001b[1;31m# Not in cache, or unhashable.\u001b[0m\u001b[1;33m\u001b[0m\u001b[0m\n\u001b[1;32m--> 143\u001b[1;33m         \u001b[0mrgba\u001b[0m \u001b[1;33m=\u001b[0m \u001b[0m_to_rgba_no_colorcycle\u001b[0m\u001b[1;33m(\u001b[0m\u001b[0mc\u001b[0m\u001b[1;33m,\u001b[0m \u001b[0malpha\u001b[0m\u001b[1;33m)\u001b[0m\u001b[1;33m\u001b[0m\u001b[0m\n\u001b[0m\u001b[0;32m    144\u001b[0m         \u001b[1;32mtry\u001b[0m\u001b[1;33m:\u001b[0m\u001b[1;33m\u001b[0m\u001b[0m\n\u001b[0;32m    145\u001b[0m             \u001b[0m_colors_full_map\u001b[0m\u001b[1;33m.\u001b[0m\u001b[0mcache\u001b[0m\u001b[1;33m[\u001b[0m\u001b[0mc\u001b[0m\u001b[1;33m,\u001b[0m \u001b[0malpha\u001b[0m\u001b[1;33m]\u001b[0m \u001b[1;33m=\u001b[0m \u001b[0mrgba\u001b[0m\u001b[1;33m\u001b[0m\u001b[0m\n",
      "\u001b[1;32mC:\\ProgramData\\Anaconda3\\lib\\site-packages\\matplotlib\\colors.py\u001b[0m in \u001b[0;36m_to_rgba_no_colorcycle\u001b[1;34m(c, alpha)\u001b[0m\n\u001b[0;32m    187\u001b[0m         \u001b[1;32mraise\u001b[0m \u001b[0mValueError\u001b[0m\u001b[1;33m(\u001b[0m\u001b[1;34m\"Invalid RGBA argument: {!r}\"\u001b[0m\u001b[1;33m.\u001b[0m\u001b[0mformat\u001b[0m\u001b[1;33m(\u001b[0m\u001b[0morig_c\u001b[0m\u001b[1;33m)\u001b[0m\u001b[1;33m)\u001b[0m\u001b[1;33m\u001b[0m\u001b[0m\n\u001b[0;32m    188\u001b[0m     \u001b[1;31m# tuple color.\u001b[0m\u001b[1;33m\u001b[0m\u001b[1;33m\u001b[0m\u001b[0m\n\u001b[1;32m--> 189\u001b[1;33m     \u001b[0mc\u001b[0m \u001b[1;33m=\u001b[0m \u001b[0mnp\u001b[0m\u001b[1;33m.\u001b[0m\u001b[0marray\u001b[0m\u001b[1;33m(\u001b[0m\u001b[0mc\u001b[0m\u001b[1;33m)\u001b[0m\u001b[1;33m\u001b[0m\u001b[0m\n\u001b[0m\u001b[0;32m    190\u001b[0m     \u001b[1;32mif\u001b[0m \u001b[1;32mnot\u001b[0m \u001b[0mnp\u001b[0m\u001b[1;33m.\u001b[0m\u001b[0mcan_cast\u001b[0m\u001b[1;33m(\u001b[0m\u001b[0mc\u001b[0m\u001b[1;33m.\u001b[0m\u001b[0mdtype\u001b[0m\u001b[1;33m,\u001b[0m \u001b[0mfloat\u001b[0m\u001b[1;33m)\u001b[0m \u001b[1;32mor\u001b[0m \u001b[0mc\u001b[0m\u001b[1;33m.\u001b[0m\u001b[0mndim\u001b[0m \u001b[1;33m!=\u001b[0m \u001b[1;36m1\u001b[0m\u001b[1;33m:\u001b[0m\u001b[1;33m\u001b[0m\u001b[0m\n\u001b[0;32m    191\u001b[0m         \u001b[1;31m# Test the dtype explicitly as `map(float, ...)`, `np.array(...,\u001b[0m\u001b[1;33m\u001b[0m\u001b[1;33m\u001b[0m\u001b[0m\n",
      "\u001b[1;31mTypeError\u001b[0m: 'list' object is not callable"
     ]
    }
   ],
   "source": [
    "#I had problems with running the packages. \n",
    "\n",
    "x = [1, 3.0, 6.4, 10, 12, 15.5, 20, 23, 25, 26, 28.2, 33.6]\n",
    "y = [-3.5, 0.5, 7, 14.5, 20.5, 25, 27, 26, 20.5, 13.5, 4.5, -1]\n",
    "\n",
    "plt.plot(x, y, 'v', linewidth=6); \n",
    "c, d, e = np.polyfit(x, y, 2)\n",
    "yfit2 = np.poly1d([c, d, e])(x)\n",
    "rmse2 = round(np.sqrt(np.sum((yfit2 - y)**2)/ len(y)), 2)\n",
    "\n",
    "# plot the fitted 2nd order function \n",
    "plt.plot(x, yfit2, label= f'2nd order RMSE {rmse2}')\n",
    "\n",
    "# add a legend\n",
    "plt.legend(loc='best')"
   ]
  },
  {
   "cell_type": "markdown",
   "metadata": {},
   "source": [
    "b) Fit a polynomial trendline of order 2 （y=ax^2+bx+c） to the data. 　\n",
    "<br>Plot the trendline on the same graph as the scatter plot from part a.\n",
    "\n",
    "データをフィッティングして、傾向線を作りなさい。傾向線は2階に指定すること（y=ax^2+bx+c）。\n",
    "<br>aの同じ図に、傾向線を書きなさい。\n",
    "<br>__3 marks__"
   ]
  },
  {
   "cell_type": "code",
   "execution_count": null,
   "metadata": {
    "collapsed": true
   },
   "outputs": [],
   "source": [
    "x = [1, 3.0, 6.4, 10, 12, 15.5, 20, 23, 25, 26, 28.2, 33.6]\n",
    "y = [-3.5, 0.5, 7, 14.5, 20.5, 25, 27, 26, 20.5, 13.5, 4.5, -1]\n",
    "\n",
    "plt.plot(x, y, 'v', linewidth=6); \n",
    "c, d, e = np.polyfit(x, y, 2)\n",
    "yfit2 = np.poly1d([c, d, e])(x)\n",
    "rmse2 = round(np.sqrt(np.sum((yfit2 - y)**2)/ len(y)), 2)\n",
    "\n",
    "# plot the fitted 2nd order function \n",
    "plt.plot(x, yfit2, label= f'2nd order RMSE {rmse2}')\n",
    "\n"
   ]
  },
  {
   "cell_type": "markdown",
   "metadata": {},
   "source": [
    "c) Add a plot legend showing the equation of the trend line.　\n",
    "<br>aの同じ図に、傾向線の式を書きなさい。 \n",
    "<br>__2 marks__"
   ]
  },
  {
   "cell_type": "code",
   "execution_count": null,
   "metadata": {
    "collapsed": true
   },
   "outputs": [],
   "source": [
    "x = [1, 3.0, 6.4, 10, 12, 15.5, 20, 23, 25, 26, 28.2, 33.6]\n",
    "y = [-3.5, 0.5, 7, 14.5, 20.5, 25, 27, 26, 20.5, 13.5, 4.5, -1]\n",
    "\n",
    "plt.plot(x, y, 'v', linewidth=6); \n",
    "c, d, e = np.polyfit(x, y, 2)\n",
    "yfit2 = np.poly1d([c, d, e])(x)\n",
    "rmse2 = round(np.sqrt(np.sum((yfit2 - y)**2)/ len(y)), 2)\n",
    "\n",
    "# plot the fitted 2nd order function \n",
    "plt.plot(x, yfit2, label= f'2nd order RMSE {round(c,2)}*x^2 + {round(d,2)}*x + {round(e,2)}')\n",
    "\n",
    "\n",
    "# add a legend\n",
    "plt.legend(loc='best')"
   ]
  },
  {
   "cell_type": "markdown",
   "metadata": {
    "collapsed": true
   },
   "source": [
    "### Question 6\n",
    "a) Create a new string variable called `Z`:　\n",
    "<br>`Z`という文字列型`string`を変数を作りなさい。\n",
    "\n",
    "<br>\n",
    " - first three characters of `Z` = *last three* characters of `X`\n",
    " - last three characters of `Z` = *first three* characters of `Y` \n",
    "\n",
    "<br>\n",
    " - `Z`は六つのが文字ある。`Z`の前の三つの文字は`X`の最後の三つの文字である\n",
    " - `Z`の後ろの三つの文字は`Y`の前の三つの文字である\n",
    "\n",
    "<br>__1 mark__"
   ]
  },
  {
   "cell_type": "code",
   "execution_count": 46,
   "metadata": {},
   "outputs": [
    {
     "name": "stdout",
     "output_type": "stream",
     "text": [
      "chafel\n",
      "ipem\n"
     ]
    }
   ],
   "source": [
    "X = \"chalet\"\n",
    "Y = \"term\"\n",
    "Z = \"felipe\"\n",
    "\n",
    "\n",
    "u = X[:3] + Z[:3] \n",
    "n = Z[-3:] + Y[-1:]\n",
    "\n",
    "print(u)\n",
    "print(n)\n"
   ]
  },
  {
   "cell_type": "markdown",
   "metadata": {},
   "source": [
    "b) Prompt the user to input their name using the sentence:\n",
    "<br>使え人に、名前を入力を訪ねる文字を表示し、入力した名前を取る。訪ねる文字は以下:\n",
    "       \n",
    "       Name =\n",
    "        \n",
    "\n",
    "When displayed, the prompt and input value should be seperated by a space.\n",
    "<br>Store this string using the variable name `W`.　\n",
    "\n",
    "名前の入力を訪ねる文章と入力した名前の間には、空`space`で分けてください。\n",
    "<br>入力した名前を、`W`と呼ぶ文字列型`string`に保存しなさい。\n",
    "<br>__2 marks__"
   ]
  },
  {
   "cell_type": "code",
   "execution_count": 47,
   "metadata": {},
   "outputs": [
    {
     "name": "stdout",
     "output_type": "stream",
     "text": [
      "Name = maruja\n"
     ]
    }
   ],
   "source": [
    "W = input(\"Name = \")"
   ]
  },
  {
   "cell_type": "markdown",
   "metadata": {},
   "source": [
    "c) Print the variable `Z` and the first letter of `W` on one line, seperated by a space.　\n",
    "<br>`Z`の全文と`W`の最初の文字を表示しなさい。ただし、`Z`の全文と`W`の最初の文字の間には、空`space`で分けてください。\n",
    "<br>__1 mark__"
   ]
  },
  {
   "cell_type": "code",
   "execution_count": 52,
   "metadata": {},
   "outputs": [
    {
     "name": "stdout",
     "output_type": "stream",
     "text": [
      "felipe m\n"
     ]
    }
   ],
   "source": [
    "stri = Z + \" \" +W[0]\n",
    "print(stri)"
   ]
  },
  {
   "cell_type": "markdown",
   "metadata": {},
   "source": [
    "d) Write your answer to part c to a text file called `string.txt`.　\n",
    "<br>Close the file when you have finished writing to it.　\n",
    "\n",
    "フェール`string.txt`を作って、問題cの答案を書き入れなさい。\n",
    "<br>答案を書き入れた後、フェールを閉めることを忘れなく。\n",
    "<br>__3 marks__"
   ]
  },
  {
   "cell_type": "code",
   "execution_count": 53,
   "metadata": {},
   "outputs": [
    {
     "ename": "SyntaxError",
     "evalue": "invalid character in identifier (<ipython-input-53-a3161385be34>, line 1)",
     "output_type": "error",
     "traceback": [
      "\u001b[1;36m  File \u001b[1;32m\"<ipython-input-53-a3161385be34>\"\u001b[1;36m, line \u001b[1;32m1\u001b[0m\n\u001b[1;33m    file = open(“string.txt”,”w”)\u001b[0m\n\u001b[1;37m                      ^\u001b[0m\n\u001b[1;31mSyntaxError\u001b[0m\u001b[1;31m:\u001b[0m invalid character in identifier\n"
     ]
    }
   ],
   "source": [
    "file = open(“string.txt”,”w”) \n",
    " \n",
    "file.write(stri) \n",
    " \n",
    "file.close() "
   ]
  },
  {
   "cell_type": "markdown",
   "metadata": {},
   "source": [
    "### Question 7\n",
    "a) Create a 2 by 2 `numpy` array of random floating point values in the range 0.0 to 1.0; store the array with the variable name `j`.　\n",
    "<br>`j`と呼ぶ、2x2の配列`array`を作りなさい。`j`の中の数字は0.0から1.0のランダム数である。 \n",
    "<br>__2 marks__"
   ]
  },
  {
   "cell_type": "code",
   "execution_count": 68,
   "metadata": {},
   "outputs": [
    {
     "name": "stdout",
     "output_type": "stream",
     "text": [
      "[[ 0.62732671  0.22418194]\n",
      " [ 0.68791201  0.50744551]]\n",
      "\n"
     ]
    }
   ],
   "source": [
    "\n",
    "j = np.random.random((2,2))\n",
    "print(j)\n",
    "print()"
   ]
  },
  {
   "cell_type": "markdown",
   "metadata": {},
   "source": [
    "b) Select the first and second of the three columns in the array, `i`, and store as new variable `k`.\n",
    "<br>`i`から第一列と第二列の数字を取り出して、`k`と呼ぶ配列を作って、保存しなさい。 \n",
    "\n",
    "The new value should be a 2 by 2 numpy array.　\n",
    "<br>`k`は2x2の配列`array`である。\n",
    "<br>__3 marks__"
   ]
  },
  {
   "cell_type": "code",
   "execution_count": 67,
   "metadata": {},
   "outputs": [
    {
     "ename": "TypeError",
     "evalue": "'list' object is not callable",
     "output_type": "error",
     "traceback": [
      "\u001b[1;31m---------------------------------------------------------------------------\u001b[0m",
      "\u001b[1;31mTypeError\u001b[0m                                 Traceback (most recent call last)",
      "\u001b[1;32m<ipython-input-67-9bbbc1819270>\u001b[0m in \u001b[0;36m<module>\u001b[1;34m()\u001b[0m\n\u001b[0;32m      1\u001b[0m i = np.array([[3, 5, 7], \n\u001b[1;32m----> 2\u001b[1;33m               [2, 4, 6]])\n\u001b[0m\u001b[0;32m      3\u001b[0m \u001b[0mk\u001b[0m\u001b[1;33m=\u001b[0m \u001b[0mi\u001b[0m\u001b[1;33m[\u001b[0m\u001b[1;36m0\u001b[0m\u001b[1;33m:\u001b[0m\u001b[1;33m,\u001b[0m\u001b[1;36m1\u001b[0m\u001b[1;33m:\u001b[0m\u001b[1;36m3\u001b[0m\u001b[1;33m]\u001b[0m\u001b[1;33m\u001b[0m\u001b[0m\n\u001b[0;32m      4\u001b[0m \u001b[0mprint\u001b[0m\u001b[1;33m(\u001b[0m\u001b[0mk\u001b[0m\u001b[1;33m)\u001b[0m\u001b[1;33m\u001b[0m\u001b[0m\n\u001b[0;32m      5\u001b[0m \u001b[1;33m\u001b[0m\u001b[0m\n",
      "\u001b[1;31mTypeError\u001b[0m: 'list' object is not callable"
     ]
    }
   ],
   "source": [
    "i = np.array([[3, 5, 7], \n",
    "              [2, 4, 6]])\n",
    "k= i[0:,1:3]\n",
    "print(k)\n",
    "\n"
   ]
  },
  {
   "cell_type": "markdown",
   "metadata": {},
   "source": [
    "c) Create a new value for variable `j`; subtract 1 from every element in the original array `j` and store the result as the new value of `j`.　\n",
    "<br>`j`の中の全ての要素を1と引き算して（配列引き算）、また`j`に保存しなさい。 \n",
    "<br>__3 marks__"
   ]
  },
  {
   "cell_type": "code",
   "execution_count": null,
   "metadata": {
    "collapsed": true
   },
   "outputs": [],
   "source": [
    "newJ = np.zeros([2,2])\n",
    "\n",
    "newJ = j - 1\n",
    "print(newJ)"
   ]
  },
  {
   "cell_type": "markdown",
   "metadata": {},
   "source": [
    "d) Add `j` and `k` and store the result as variable with name `l`.　\n",
    "<br>`j`と`k`を配列加法をして、`l`と呼ぶ配列を作って、保存しなさい。 \n",
    "<br>__1 mark__"
   ]
  },
  {
   "cell_type": "code",
   "execution_count": null,
   "metadata": {
    "collapsed": true
   },
   "outputs": [],
   "source": [
    "l = j + k \n",
    "print(l)"
   ]
  },
  {
   "cell_type": "markdown",
   "metadata": {},
   "source": [
    "### Question 8\n",
    "This question is a questionnaire about your experience of the course this year.　\n",
    "<br>*Any* coherent answer given will be marked as correct.\n",
    "<br>Please answer honestly and constructively.\n",
    "<br>You may give written answers in English or Japanese. \n",
    "\n",
    "この問題は、この授業の君の経歴を訪ねるアンケートである\n",
    "<br>どうな読める答案でも点数をわたえる。勿論、英語でお願いします。\n",
    "<br>ただし、真面目、かつ真剣な答案が望ましい。\n",
    "<br>英語や日本語で回答できる。勿論、点数に関係ないか、出来れば英語でお願いします。\n",
    "\n",
    "<br>\n",
    "__a) ENTRY LEVEL__ \n",
    "<br>__1 mark__\n",
    "<br>Please write the title of your major at your home university.　\n",
    "<br>君の大学の専門の名前を書きなさい。\n",
    "\n",
    "Please write which number best describes your knowledge of this subject before starting the course?　\n",
    "<br>この授業のする前に、授業の内容に対して、自分に最も近い状況を、次の番号の中から選んてください。\n",
    "1. No previous study.　全然知識無し\n",
    "1. A basic understanding.　基本の知識が持つ\n",
    "1. A good fundamental understanding.　ある程度の知識が持つ、深い理解した\n",
    "1. Comprehensive previous study.　私はプログラムマスター"
   ]
  },
  {
   "cell_type": "code",
   "execution_count": null,
   "metadata": {
    "collapsed": true
   },
   "outputs": [],
   "source": [
    "Major 専門名: computer science \n",
    "    \n",
    "Knowledge of this subject before starting the course　この授業の前の知識レベル: A good fundamental understanding "
   ]
  },
  {
   "cell_type": "markdown",
   "metadata": {},
   "source": [
    "__b) ENJOYMENT__\n",
    "<br>__1 mark__\n",
    "<br>Write what you enjoyed most/found most interesting  about the course.　\n",
    "<br>この授業の最も面白いところを書きなさい。"
   ]
  },
  {
   "cell_type": "code",
   "execution_count": null,
   "metadata": {
    "collapsed": true
   },
   "outputs": [],
   "source": [
    "it was not reallly fun "
   ]
  },
  {
   "cell_type": "markdown",
   "metadata": {},
   "source": [
    "Write what you enjoyed least / found least interesting about the course.　\n",
    "<br>この授業の最もつまらないところを書きなさい。"
   ]
  },
  {
   "cell_type": "code",
   "execution_count": null,
   "metadata": {
    "collapsed": true
   },
   "outputs": [],
   "source": [
    "no time to practice in class "
   ]
  },
  {
   "cell_type": "markdown",
   "metadata": {},
   "source": [
    "__c) KNOWLEDGE TRANSFER__\n",
    "<br>__1 mark__\n",
    "\n",
    "Please choose the number indicating how much you feel your understanding improved as a result of taking this course.　\n",
    "<br>この授業した後、どのくらい上昇したが、次の番号の中から選んてください。\n",
    "\n",
    "1.\t__Dramatic improvement.__ I can confidently and independently use and apply my knowledge of programming in Python.　<br>__驚き激増した.__　自力でPythonを使える、思ったままPythonプログラムイング出来る。\n",
    "\n",
    "2.\t__Significant improvement.__ I have a much better understanding of this subject than when starting the course.　<br>__かなり増えた.__　授業の前と比べて、プログラムイングのことよく分かりました。\n",
    "\n",
    "3.\t__Slight improvement.__ My knowledge has improved but I do not feel confident in my understanding of this topic.　<br>__少し増えた.__　ある程度の知識を受けたが、まだ分からいことある。\n",
    "\n",
    "4.\t__No improvement.__ My knowledge of this topic has improved very little as a result of taking this course.　<br>__全然増えてない.__　授業を受けでも、前と比べて、あまり増えることはない。\n",
    "  \n"
   ]
  },
  {
   "cell_type": "code",
   "execution_count": null,
   "metadata": {
    "collapsed": true
   },
   "outputs": [],
   "source": [
    "Dramatic improvement"
   ]
  },
  {
   "cell_type": "markdown",
   "metadata": {},
   "source": [
    "__d) DELIVERY__\n",
    "<br>__1 mark__\n",
    "<br>Please rate the __use of english__ by writing the number you feel is most appropriate next to each of the communication formats listed below .　\n",
    "<br>先生の英語（文章）は読めやすさ、次の番号の中から選んてください。\n",
    "1. Easy to understand.　読め易い\n",
    "1. A few things were unclear / not well explained.　少し読めないところがある\n",
    "1. Many things were unclear / not explained well.　たくさん読めないところがある\n",
    "1. I could understand very little. 　読めるところも少ない"
   ]
  },
  {
   "cell_type": "code",
   "execution_count": null,
   "metadata": {
    "collapsed": true
   },
   "outputs": [],
   "source": [
    "Written instructions in Jupyter notebooks `Jupyter notebooks`の使え方の説明（理解安さは何番）: 1\n",
    "    \n",
    "Written instructions for review exercises 毎章の練習問題の説明（理解安さは何番）:3\n",
    "\n",
    "Written instructions for coursework assignement 最後の宿題の説明（理解安さは何番）:3\n",
    "    \n",
    "Verbal instructions/explanation 全体的の説明（理解安さは何番）:4 very low voice "
   ]
  },
  {
   "cell_type": "markdown",
   "metadata": {},
   "source": [
    "Please rate __how well-explained and understandable__ the course material was by writing the number you feel is most appropriate next to each of the communication formats listed below .　\n",
    "<br>先生の説明（文章）は理解やすかったが、次の番号の中から選んてください。\n",
    "1. Easy to understand.　理解易い\n",
    "1. A few things were unclear / not well explained.　少し理解できないところがある　\n",
    "1. Many things were unclear / not explained well.　たくさん理解できないところがある\n",
    "1. I could understand very little. 　理解できるところも少ない"
   ]
  },
  {
   "cell_type": "code",
   "execution_count": null,
   "metadata": {
    "collapsed": true
   },
   "outputs": [],
   "source": [
    "Written instructions in Jupyter notebooks `Jupyter notebooks`の使え方の説明（理解安さは何番）: 1\n",
    "    \n",
    "Written instructions for review exercises 毎章の練習問題の説明（理解安さは何番）:1\n",
    "\n",
    "Written instructions for coursework assignement 最後の宿題の説明（理解安さは何番）:3\n",
    "    \n",
    "Verbal instructions/explanation 全体的の説明（理解安さは何番）:4"
   ]
  },
  {
   "cell_type": "markdown",
   "metadata": {
    "collapsed": true
   },
   "source": [
    "__e) FURTHER STUDY__\n",
    "<br>__1 mark__\n",
    "\n",
    "Are you interested to continue studying programming?\n",
    "<br>プログラミングを引き続き学びたいですか."
   ]
  },
  {
   "cell_type": "code",
   "execution_count": null,
   "metadata": {
    "collapsed": true
   },
   "outputs": [],
   "source": [
    "yes "
   ]
  },
  {
   "cell_type": "markdown",
   "metadata": {},
   "source": [
    "__f) ADDITIONAL COMMENTS__\n",
    "<br>__[optional]__\n",
    "\n",
    "Please include any additional ideas you have about the course. \n",
    "<br>この授業についてコメントがあれば自由に記載してください\n"
   ]
  },
  {
   "cell_type": "code",
   "execution_count": null,
   "metadata": {
    "collapsed": true
   },
   "outputs": [],
   "source": []
  },
  {
   "cell_type": "code",
   "execution_count": null,
   "metadata": {
    "collapsed": true
   },
   "outputs": [],
   "source": []
  },
  {
   "cell_type": "code",
   "execution_count": null,
   "metadata": {
    "collapsed": true
   },
   "outputs": [],
   "source": []
  }
 ],
 "metadata": {
  "kernelspec": {
   "display_name": "Python 3",
   "language": "python",
   "name": "python3"
  },
  "language_info": {
   "codemirror_mode": {
    "name": "ipython",
    "version": 3
   },
   "file_extension": ".py",
   "mimetype": "text/x-python",
   "name": "python",
   "nbconvert_exporter": "python",
   "pygments_lexer": "ipython3",
   "version": "3.6.2"
  }
 },
 "nbformat": 4,
 "nbformat_minor": 2
}
